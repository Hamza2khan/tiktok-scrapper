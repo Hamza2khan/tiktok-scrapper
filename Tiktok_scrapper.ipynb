{
  "nbformat": 4,
  "nbformat_minor": 0,
  "metadata": {
    "colab": {
      "provenance": []
    },
    "kernelspec": {
      "name": "python3",
      "display_name": "Python 3"
    },
    "language_info": {
      "name": "python"
    }
  },
  "cells": [
    {
      "cell_type": "code",
      "execution_count": null,
      "metadata": {
        "id": "tpOINEOCa3Gj"
      },
      "outputs": [],
      "source": [
        "import os\n",
        "import requests\n",
        "import shutil\n",
        "\n",
        "print(\"TikTok Comment Scraper\".center(shutil.get_terminal_size().columns))\n",
        "print(\"By Tekky [.gg/onlp]\".center(shutil.get_terminal_size().columns))\n",
        "print('\\n')\n",
        "\n",
        "videoid = input('          [?] TikTok link > ')\n",
        "\n",
        "# Handle short TikTok URLs\n",
        "try:\n",
        "    if \"vm.tiktok.com\" in videoid or \"vt.tiktok.com\" in videoid:\n",
        "        videoid = requests.head(videoid, allow_redirects=True, timeout=5).url.split(\"/\")[5].split(\"?\", 1)[0]\n",
        "    else:\n",
        "        videoid = videoid.split(\"/\")[5].split(\"?\", 1)[0]\n",
        "except Exception as e:\n",
        "    print(f\"Error processing link: {e}\")\n",
        "    exit()\n",
        "\n",
        "t, comm_num = 0, 0\n",
        "\n",
        "while True:\n",
        "    try:\n",
        "        headers = {\n",
        "            'user-agent': 'Mozilla/5.0 (Windows NT 10.0; Win64; x64) AppleWebKit/537.36 (KHTML, like Gecko) Chrome/89.0.4389.114 Safari/537.36',\n",
        "            'referer': f'https://www.tiktok.com/@x/video/{videoid}',\n",
        "        }\n",
        "\n",
        "        response = requests.get(f\"https://www.tiktok.com/api/comment/list/?aid=1988&aweme_id={videoid}&count=50&cursor={t}\", headers=headers).json()\n",
        "\n",
        "        if \"comments\" not in response or not response[\"comments\"]:\n",
        "            print(\"\\nNo more comments found.\")\n",
        "            break  # Stop looping if no comments\n",
        "\n",
        "        for comment in response[\"comments\"]:\n",
        "            print(comment[\"text\"])\n",
        "            comm_num += 1\n",
        "\n",
        "        t += 50\n",
        "\n",
        "    except Exception as e:\n",
        "        print(f\"\\nError fetching comments: {e}\")\n",
        "        break  # Stop on API failure\n",
        "\n",
        "print(f\"\\nTotal Comments Scraped: {comm_num}\")\n"
      ]
    }
  ]
}